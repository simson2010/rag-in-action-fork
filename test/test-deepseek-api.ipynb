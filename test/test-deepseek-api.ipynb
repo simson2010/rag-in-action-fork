{
 "cells": [
  {
   "cell_type": "code",
   "execution_count": 2,
   "id": "eb95fa7a-33f3-491b-9554-68a4edb872f8",
   "metadata": {},
   "outputs": [],
   "source": [
    "import os \n",
    "\n",
    "deepseek_api_key = os.getenv(\"DEEPSEEK_API_KEY\")"
   ]
  },
  {
   "cell_type": "code",
   "execution_count": 8,
   "id": "bc61baad-84cd-4724-ad9d-b98f6903f618",
   "metadata": {},
   "outputs": [
    {
     "name": "stdout",
     "output_type": "stream",
     "text": [
      "**时空穿越者**  \n",
      "\n",
      "林默是一名时空穿越者，拥有自由穿梭过去与未来的能力。他的任务是修正历史中的微小错误，避免引发蝴蝶效应。  \n",
      "\n",
      "某天，他接到一项紧急任务：阻止一场发生在2145年的科技灾难。未来世界因人工智能失控而濒临毁灭，源头竟是一份2023年泄露的代码。  \n",
      "\n",
      "林默穿越回2023年，伪装成程序员潜入科技公司。就在代码即将上传的瞬间，他拔掉了服务器电源。警报响起，保安冲来，他转身跃入时空隧道，身后传来愤怒的喊声。  \n",
      "\n",
      "回到未来，世界已恢复平静。但林默发现，自己的手开始透明化——频繁穿越正在吞噬他的存在。  \n",
      "\n",
      "“值得吗？”他笑了笑，调出下一个任务坐标。\n"
     ]
    }
   ],
   "source": [
    "# Please install OpenAI SDK first: `pip3 install openai`\n",
    "\n",
    "from openai import OpenAI\n",
    "\n",
    "client = OpenAI(api_key=deepseek_api_key, base_url=\"https://api.deepseek.com\")\n",
    "\n",
    "response = client.chat.completions.create(\n",
    "    model=\"deepseek-chat\",\n",
    "    messages=[\n",
    "        {\"role\": \"system\", \"content\": \"You are a helpful assistant\"},\n",
    "        {\"role\": \"user\", \"content\": \"Create a story about 时空穿越者，500字以内，简单直接。\"},\n",
    "    ],\n",
    "    temperature=0.9,\n",
    "    stream=False\n",
    ")\n",
    "\n",
    "content = response.choices[0].message.content\n",
    "print(content)\n"
   ]
  },
  {
   "cell_type": "code",
   "execution_count": 7,
   "id": "4ef6c865-a771-411d-9a2a-8b653428b449",
   "metadata": {},
   "outputs": [
    {
     "name": "stdout",
     "output_type": "stream",
     "text": [
      "### **审核意见及修改方案**  \n",
      "\n",
      "#### **1. 怀表的穿越机制不够清晰**  \n",
      "**问题**：怀表如何触发穿越？是否有使用限制？为什么突然能“永远留在过去”？  \n",
      "**修改建议**：  \n",
      "- 增加设定：怀表只能在特定时间（如午夜）或特定条件下（如月光照射）触发穿越，且每次穿越后需要“充能”一定时间才能再次使用。  \n",
      "- 李明发现怀表背面刻有文字：“时间之门，仅开三次”，暗示他只有有限的机会穿越。  \n",
      "\n",
      "#### **2. 现代人适应1940年代过于顺利**  \n",
      "**问题**：李明作为现代人，语言、生活习惯、身份证明等方面在1940年代可能面临障碍，但故事中他轻松融入。  \n",
      "**修改建议**：  \n",
      "- 增加初期的不适应：李明因口音或行为怪异引起怀疑，被迫编造更合理的身份（如“海外华侨”需有相应背景知识）。  \n",
      "- 林小雨最初对他警惕，但因他的医学知识（如抗生素使用方法）逐渐信任他。  \n",
      "\n",
      "#### **3. 历史细节不够严谨**  \n",
      "**问题**：1940年的上海处于日军占领期，普通人行动受限，医院物资匮乏，李明如何自由活动并改进技术？  \n",
      "**修改建议**：  \n",
      "- 设定林小雨所在的医院是地下爱国组织掩护的据点，李明的“未来知识”被谨慎使用，避免引起日军注意。  \n",
      "- 他对空袭的“预测”可改为偷听到日军通讯（而非未卜先知），更符合现实逻辑。  \n",
      "\n",
      "#### **4. 感情发展略显仓促**  \n",
      "**问题**：林小雨对李明的信任和感情铺垫不足，离别场景稍显突兀。  \n",
      "**修改建议**：  \n",
      "- 增加互动：李明教她简单的未来医疗技巧（如CPR），她教他如何在乱世生存，两人在危机中互相依赖。  \n",
      "- 离别时，小雨给他照片时说：“如果这是梦，醒来后也要记得我。”增强情感冲击。  \n",
      "\n",
      "#### **5. 结局逻辑问题**  \n",
      "**问题**：李明“决定永远留在过去”缺乏现实考量，他在1940年代如何生存？怀表是否允许这种选择？  \n",
      "**修改建议**：  \n",
      "- 怀表最后一次使用后失效，他被迫留下，而非主动选择。  \n",
      "- 结局留白：多年后，一位历史学者发现1945年的某张照片，其中酷似李明的男子站在小雨身旁，暗示他改变了她的命运。  \n",
      "\n",
      "### **修改后故事框架（保持500字内）**  \n",
      "\n",
      "李明按下怀表的瞬间，被抛入1940年的上海。硝烟中，护士林小雨救了他。他谎称是华侨，但口音和举止仍引人怀疑。  \n",
      "\n",
      "战地医院缺药，他偷偷用未来知识改进消毒方法，却被小雨察觉。“你到底是谁？”他苦笑：“我说了，你也不会信。”  \n",
      "\n",
      "空袭夜，他“预测”了轰炸，救下众人。小雨追问，他坦白真相，她沉默良久，最终塞给他一张照片：“如果这是梦，醒来也要记得我。”  \n",
      "\n",
      "怀表发热——第三次穿越即将触发。他查阅资料，发现小雨死于1941年。  \n",
      "\n",
      "午夜，他再次按下怀表，白光中，表盘碎裂。他睁开眼，仍是硝烟弥漫的上海。远处，小雨惊喜地奔来——这一次，他再也回不去了。  \n",
      "\n",
      "（通过调整逻辑和细节，故事更紧凑合理，情感也更自然。）\n"
     ]
    }
   ],
   "source": [
    "resp_comment = client.chat.completions.create(\n",
    "    model=\"deepseek-chat\",\n",
    "    messages=[\n",
    "        {\"role\": \"system\", \"content\": \"You are a helpful assistant\"},\n",
    "        {\"role\": \"user\", \"content\": \"Create a story about 时空穿越者，500字以内，简单直接。\"},\n",
    "        {\"role\": \"assistant\", \"content\": content},\n",
    "        {\"role\": \"user\", \"content\":\"以上是故事内容，请审核内容，将不合理的部分列出，并给出修改方案，以使故事更有条理，合理，符合现实世界的行为。\"},\n",
    "    ],\n",
    "    stream=False\n",
    ")\n",
    "\n",
    "content_comment = resp_comment.choices[0].message.content\n",
    "\n",
    "print(content_comment)\n"
   ]
  },
  {
   "cell_type": "markdown",
   "id": "b91159a8-792c-4830-8055-d0adce350bd5",
   "metadata": {},
   "source": [
    "## get models"
   ]
  },
  {
   "cell_type": "code",
   "execution_count": 3,
   "id": "167a7f30-9ac8-4182-bc41-647d1f526d4a",
   "metadata": {},
   "outputs": [
    {
     "name": "stdout",
     "output_type": "stream",
     "text": [
      "SyncPage[Model](data=[Model(id='deepseek-chat', created=None, object='model', owned_by='deepseek'), Model(id='deepseek-reasoner', created=None, object='model', owned_by='deepseek')], object='list')\n"
     ]
    }
   ],
   "source": [
    "from openai import OpenAI\n",
    "\n",
    "# for backward compatibility, you can still use `https://api.deepseek.com/v1` as `base_url`.\n",
    "client = OpenAI(api_key=deepseek_api_key, base_url=\"https://api.deepseek.com\")\n",
    "print(client.models.list())"
   ]
  },
  {
   "cell_type": "markdown",
   "id": "5fb9218c-a7a4-45ad-800c-60be294cf127",
   "metadata": {},
   "source": [
    "## Check Balance"
   ]
  },
  {
   "cell_type": "code",
   "execution_count": 4,
   "id": "176e920c-d95e-47b7-912d-ca4023f6ec40",
   "metadata": {},
   "outputs": [
    {
     "name": "stdout",
     "output_type": "stream",
     "text": [
      "{\"is_available\":true,\"balance_infos\":[{\"currency\":\"CNY\",\"total_balance\":\"19.76\",\"granted_balance\":\"0.00\",\"topped_up_balance\":\"19.76\"},{\"currency\":\"USD\",\"total_balance\":\"0.00\",\"granted_balance\":\"0.00\",\"topped_up_balance\":\"0.00\"}]}\n"
     ]
    }
   ],
   "source": [
    "import requests\n",
    "\n",
    "url = \"https://api.deepseek.com/user/balance\"\n",
    "\n",
    "payload={}\n",
    "headers = {\n",
    "  'Accept': 'application/json',\n",
    "  'Authorization': f'Bearer {deepseek_api_key}'\n",
    "}\n",
    "\n",
    "response = requests.request(\"GET\", url, headers=headers, data=payload)\n",
    "\n",
    "print(response.text)"
   ]
  },
  {
   "cell_type": "code",
   "execution_count": null,
   "id": "bba97e9e-37b8-4787-b9f6-9bf3f3eb8bbd",
   "metadata": {},
   "outputs": [],
   "source": []
  },
  {
   "cell_type": "markdown",
   "id": "b4f6e9e5-760b-4f82-b836-5de8b2f18917",
   "metadata": {},
   "source": [
    "## DeepSeek streaming API - Reasoner"
   ]
  },
  {
   "cell_type": "code",
   "execution_count": 15,
   "id": "9adeb7ae-e808-4fd6-b5c2-46e494f6c168",
   "metadata": {},
   "outputs": [],
   "source": [
    "from openai import OpenAI\n",
    "client = OpenAI(api_key=deepseek_api_key, base_url=\"https://api.deepseek.com\")\n",
    "\n",
    "# Round 1\n",
    "messages = [{\"role\": \"user\", \"content\": \"Create a story about 时空穿越者，100字以内，简单直接。\"}]\n",
    "response = client.chat.completions.create(\n",
    "    model=\"deepseek-reasoner\",\n",
    "    messages=messages,\n",
    "    stream=True\n",
    ")\n",
    "\n",
    "reasoning_content = \"\"\n",
    "content = \"\"\n",
    "\n",
    "def processContents(response) :\n",
    "    global reasoning_content , content\n",
    "    reasoning_content += \"Reasoning: \\n\\n\"\n",
    "    content += \"\\n\\n\\nResponse: \\n\\n\\n\"\n",
    "    for chunk in response:\n",
    "        if chunk.choices[0].delta.reasoning_content:\n",
    "            if chunk.choices[0].delta.reasoning_content is not None:\n",
    "                reasoning_content += chunk.choices[0].delta.reasoning_content\n",
    "        else:\n",
    "            if chunk.choices[0].delta.content is not None:\n",
    "                content += chunk.choices[0].delta.content\n",
    "\n",
    "processContents(response)\n",
    "\n",
    "# Round 2\n",
    "messages.append({\"role\": \"assistant\", \"content\": content})\n",
    "messages.append({'role': 'user', 'content': \"用简单的言语，向小学生解释地球公转和自转，及它们对地球人生活的影响。\"})\n",
    "response = client.chat.completions.create(\n",
    "    model=\"deepseek-reasoner\",\n",
    "    messages=messages,\n",
    "    stream=True\n",
    ")\n",
    "\n",
    "processContents(response)\n",
    "\n",
    "# ..."
   ]
  },
  {
   "cell_type": "code",
   "execution_count": 16,
   "id": "553e3700-998d-4469-9736-daa14e937e96",
   "metadata": {},
   "outputs": [
    {
     "name": "stdout",
     "output_type": "stream",
     "text": [
      "Reasoning:  \n",
      "Reasoning: \n",
      "\n",
      "嗯，用户让我创建一个关于时空穿越者的故事，要求在100字以内，简单直接。首先，我需要确定故事的核心元素。时空穿越者通常涉及时间旅行或不同维度的跳跃，所以主角可能是个科学家或者探险者。接下来，要有一个冲突或转折点，比如发现无法返回，或者遇到另一个自己。\n",
      "\n",
      "用户要求简短，所以必须紧凑。开头需要快速进入场景，比如实验室里的警报响起，显示异常数据。主角林秋启动装置，进入时空漩涡，这样立即带入紧张感。然后描述穿越后的环境，比如2165年的废墟，增加视觉冲击。\n",
      "\n",
      "接下来需要冲突点，比如遇到另一个自己，对方警告时间线即将崩溃。这里可以制造悬念，同时引出主角必须解决的任务。结尾部分，要留有余地，比如选择相信对方，开始修正错误，但保持开放结局，符合字数限制。\n",
      "\n",
      "还要注意语言简洁，避免复杂句子。动词要生动，比如“冲入”、“浮现”、“嘶哑警告”。最后检查字数，确保不超过100字。可能需要在细节上调整，比如具体的时间年份，或者场景描述，确保信息量足够但不过载。确保故事有起承转合，即使很短，也要完整。Reasoning: \n",
      "\n",
      "好的，我现在需要向小学生解释地球的公转和自转，以及它们对生活的影响。首先，我得确保用简单易懂的语言，避免复杂的术语。公转和自转这两个概念，可能需要用他们熟悉的事物来比喻。\n",
      "\n",
      "首先，自转是地球自己旋转，这应该比较容易理解。比如可以比喻成旋转木马或者陀螺。自转一周是一天，导致白天和黑夜的交替。这部分可能需要解释为什么会有白天和黑夜，以及不同地区的时间差异。\n",
      "\n",
      "然后是公转，地球绕着太阳转，周期是一年。这里可能需要用轨道或者绕着操场跑圈来比喻。公转导致四季的变化，因为地球倾斜的角度不同，接受阳光的程度不同。不过，这里要注意小学生的理解能力，可能不需要深入讲解倾斜角度，而是简单说明离太阳远近或者阳光照射的角度不同。\n",
      "\n",
      "接下来是影响。自转导致昼夜变化，影响人们的作息，比如白天活动，晚上休息。公转带来四季，影响穿衣、农作物生长等。季节变化可能和他们穿的衣服、节日活动相关，比如夏天穿短袖，冬天穿棉袄，春天播种，秋天收获。\n",
      "\n",
      "需要检查有没有使用难懂的词汇，比如“轨道”、“倾斜角度”可能需要替换成更简单的说法。比如“绕着太阳转的路线”代替“轨道”，“地球有点歪”代替“倾斜”。同时，可能需要用图画或手势来辅助解释，比如用手比划地球自转和公转的动作。\n",
      "\n",
      "还要考虑互动，比如提问：“你们有没有注意到白天和晚上是怎么来的？”或者“为什么夏天热，冬天冷？”这样可以让他们参与进来，加深理解。\n",
      "\n",
      "最后，确保内容简短，不超过100字左右，但可能需要稍微详细一点，但保持简洁。需要把公转和自转分开解释，再讲影响，结构清晰。\n",
      "\n",
      "\n",
      "\n",
      "\n",
      "Response: \n",
      "\n",
      " \n",
      "\n",
      "\n",
      "Response: \n",
      "\n",
      "\n",
      "实验室警报骤响，林秋盯着屏幕上跳跃的坐标——2165年南极洲。他冲入量子舱，时空漩涡瞬间吞噬了所有仪器红光。\n",
      "\n",
      "冰层在脚下碎裂时，他看见了自己。\n",
      "\n",
      "\"你终于来了。\"镜像人扯开防护服，露出机械脊椎，\"三小时后时间线彻底崩溃。\"风雪中两个相同的面孔对峙，林秋握紧了怀表，秒针正逆时针交替跳动。\n",
      "\n",
      "\n",
      "Response: \n",
      "\n",
      "\n",
      "地球就像个旋转的陀螺，每天自己转一圈，这就是自转。我们面对太阳时是白天，转到背面就变成黑夜啦！地球还像跑步运动员，一年绕着太阳跑完一圈（公转）。跑步时地球身子有点歪，所以不同时候离太阳的远近不同，这就创造了春夏秋冬。春天种子发芽，夏天能吃冰棍，秋天树叶变黄，冬天要穿棉袄，都是地球转圈圈送给我们的礼物哦！\n"
     ]
    }
   ],
   "source": [
    "print(f\"Reasoning:  \\n{reasoning_content}\")\n",
    "print(\"\\n\\n\\n\")\n",
    "print(f\"Response: \\n\\n {content}\")"
   ]
  }
 ],
 "metadata": {
  "kernelspec": {
   "display_name": "rag-llamaindex",
   "language": "python",
   "name": "python3"
  },
  "language_info": {
   "codemirror_mode": {
    "name": "ipython",
    "version": 3
   },
   "file_extension": ".py",
   "mimetype": "text/x-python",
   "name": "python",
   "nbconvert_exporter": "python",
   "pygments_lexer": "ipython3",
   "version": "3.11.11"
  }
 },
 "nbformat": 4,
 "nbformat_minor": 5
}
